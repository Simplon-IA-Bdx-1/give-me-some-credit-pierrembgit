{
 "cells": [
  {
   "cell_type": "code",
   "execution_count": 1,
   "metadata": {},
   "outputs": [],
   "source": [
    "# On importe la librairie pandas et le dataset source\n",
    "import pandas as pd"
   ]
  },
  {
   "cell_type": "code",
   "execution_count": 2,
   "metadata": {},
   "outputs": [],
   "source": [
    "# On prépare le fichier pour kaggle\n",
    "df = pd.read_csv('storage/batch_prediction.csv')\n",
    "# On supprime les colonnes inutiles pour kaggle\n",
    "df.drop(columns=['SeriousDlqin2yrs', '0 probability'], inplace=True)\n",
    "# On renomme les colonnes au format kaggle\n",
    "df.rename(columns={'1 probability': 'Probability'}, inplace=True)\n",
    "# On exporte en csv\n",
    "df.to_csv('storage/kaggle_submission_file.csv', index=False)"
   ]
  },
  {
   "cell_type": "code",
   "execution_count": 3,
   "metadata": {},
   "outputs": [],
   "source": [
    "# On importe la librairie kaggle\n",
    "#!pip install --user kaggle\n",
    "import kaggle"
   ]
  },
  {
   "cell_type": "code",
   "execution_count": 4,
   "metadata": {},
   "outputs": [
    {
     "name": "stderr",
     "output_type": "stream",
     "text": [
      "100%|██████████| 1.65M/1.65M [00:03<00:00, 450kB/s] \n"
     ]
    },
    {
     "data": {
      "text/plain": [
       "Successfully submitted to Give Me Some Credit"
      ]
     },
     "execution_count": 4,
     "metadata": {},
     "output_type": "execute_result"
    }
   ],
   "source": [
    "# On soumet à Kaggle\n",
    "submission_file = \"storage/kaggle_submission_file.csv\"\n",
    "df.to_csv(submission_file, index=False)\n",
    "kaggle.api.competition_submit(submission_file, \"Ensemble\", \"GiveMeSomeCredit\")"
   ]
  }
 ],
 "metadata": {
  "kernelspec": {
   "display_name": "Python 3",
   "language": "python",
   "name": "python3"
  },
  "language_info": {
   "codemirror_mode": {
    "name": "ipython",
    "version": 3
   },
   "file_extension": ".py",
   "mimetype": "text/x-python",
   "name": "python",
   "nbconvert_exporter": "python",
   "pygments_lexer": "ipython3",
   "version": "3.7.3"
  }
 },
 "nbformat": 4,
 "nbformat_minor": 2
}
