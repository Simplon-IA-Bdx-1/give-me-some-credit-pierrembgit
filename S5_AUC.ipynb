{
 "cells": [
  {
   "cell_type": "code",
   "execution_count": null,
   "metadata": {},
   "outputs": [],
   "source": [
    "import pandas as pd\n",
    "df = pd.read_csv('storage/batch_prediction_all_fields.csv', index_col=False, header=0)\n",
    "\n",
    "nb_inf = 0\n",
    "nb_interation = 0\n",
    "serie = df.transpose() # here we convert the DataFrame into a Serie\n",
    "for ligne in serie: # Pour chaque ligne du tableau serie\n",
    "    if serie[ligne][11] == 1: # si la valeur de la colonne SeriousDlqin2yrs = 1 alors ...\n",
    "        proba_positif = serie[ligne][15] # On stocke la valeur de 1 probability à la variable proba_positif\n",
    "        for ligne_neg in serie: # On boucle sur toutes les lignes da la serie \n",
    "            if serie[ligne_neg][11] == 0: # Si la valeur de SeriousDlqin2yrs = 0 alors ...\n",
    "                if proba_positif > serie[ligne_neg][15]: # Si la valeur de proba_positif est inférieure à la valeur de 1 probability de la ligne (dont SeriousDlqin2yrs est égal à 0 proba_negtive) alors ...\n",
    "                    nb_inf += 1 # On incrémente la valeur de nb_inf de 1\n",
    "                nb_interation += 1 # On incrémente le nombre de boucle total (dénominateur pour le calcul de l'AUC)\n",
    "                    \n",
    "print(nb_inf)\n",
    "print(nb_interation)\n",
    "print(f\"{round(nb_inf/nb_interation*100,2)}%\")"
   ]
  },
  {
   "cell_type": "code",
   "execution_count": null,
   "metadata": {},
   "outputs": [],
   "source": [
    "import pandas as pd\n",
    "df = pd.read_csv('storage/batch_prediction_all_fields.csv', index_col=False, header=0)\n",
    "pos = df.loc[df['SeriousDlqin2yrs'] == 1] # Tout les Positif \n",
    "neg = df.loc[df['SeriousDlqin2yrs'] == 0] # Tout les negatifs \n",
    "\n",
    "x = 0\n",
    "y = 0\n",
    "# pour chaque 1 proba ( P ) dans toutes les 1 proba (P)\n",
    "for threshold_pos in pos['1 probability']:\n",
    "    # pour chaque 1 Proba ( N ) dans toutes les 1 proba ( N )\n",
    "    for threshold_neg in neg['1 probability']:\n",
    "        if threshold_pos > threshold_neg:\n",
    "            x += 1 \n",
    "        y += 1\n",
    "    \n",
    "print(x)\n",
    "print(y)\n",
    "print(f\"{round((x/y)*100,2)}%\")"
   ]
  },
  {
   "cell_type": "code",
   "execution_count": null,
   "metadata": {},
   "outputs": [],
   "source": [
    "import pandas as pd\n",
    "df = pd.read_csv('storage/batch_prediction_all_fields.csv', index_col=False, header=0)\n",
    "pos = df.loc[df['SeriousDlqin2yrs']  == 0]\n",
    "print(pos)"
   ]
  }
 ],
 "metadata": {
  "kernelspec": {
   "display_name": "Python 3",
   "language": "python",
   "name": "python3"
  },
  "language_info": {
   "codemirror_mode": {
    "name": "ipython",
    "version": 3
   },
   "file_extension": ".py",
   "mimetype": "text/x-python",
   "name": "python",
   "nbconvert_exporter": "python",
   "pygments_lexer": "ipython3",
   "version": "3.7.3"
  }
 },
 "nbformat": 4,
 "nbformat_minor": 2
}
