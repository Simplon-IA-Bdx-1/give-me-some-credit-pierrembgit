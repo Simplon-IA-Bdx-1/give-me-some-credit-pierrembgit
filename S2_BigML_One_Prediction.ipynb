{
 "cells": [
  {
   "cell_type": "code",
   "execution_count": 1,
   "metadata": {},
   "outputs": [],
   "source": [
    "# On importe la librairie bigml et pandas\n",
    "from bigml.api import BigML\n",
    "import pandas as pd\n",
    "import pprint"
   ]
  },
  {
   "cell_type": "code",
   "execution_count": 2,
   "metadata": {},
   "outputs": [],
   "source": [
    "# On se connecte à bigml et on récupère un ensemble et son dataset\n",
    "api = BigML(project='project/5d94a32e42129f2e16000232')\n",
    "ensemble = api.get_ensemble('ensemble/5dc2f3f07811dd7f2d012312')\n",
    "dataset = api.get_dataset(ensemble['object']['dataset'])"
   ]
  },
  {
   "cell_type": "code",
   "execution_count": 3,
   "metadata": {},
   "outputs": [],
   "source": [
    "# Data to predict\n",
    "predicton_data = {\n",
    "    \"RevolvingUtilizationOfUnsecuredLines\": 0.01703559,\n",
    "    \"NumberOfDependents\": 1,\n",
    "    \"DebtRatio\": 0,\n",
    "    \"age\": 42,\n",
    "    \"NumberOfOpenCreditLinesAndLoans\": 6,\n",
    "    \"NumberRealEstateLoansOrLines\": 15,\n",
    "    \"NumberOfTime30-59DaysPastDueNotWorse\": 15,\n",
    "    \"NumberOfTime60-89DaysPastDueNotWorse\": 15,\n",
    "    \"NumberOfTimes90DaysLate\": 0\n",
    "}"
   ]
  },
  {
   "cell_type": "code",
   "execution_count": 4,
   "metadata": {},
   "outputs": [],
   "source": [
    "# On récupère l'ensemble des colonnes du dataset\n",
    "dataset_columns = []\n",
    "for row in dataset['object']['fields']:\n",
    "    dataset_columns.append(dataset['object']['fields'][row]['name'])"
   ]
  },
  {
   "cell_type": "code",
   "execution_count": 5,
   "metadata": {},
   "outputs": [],
   "source": [
    "# On crée un dataframe pandas et on injecte les colonnes\n",
    "df = pd.DataFrame(columns=dataset_columns)\n",
    "# puis les données\n",
    "df = df.append(predicton_data,ignore_index=True)"
   ]
  },
  {
   "cell_type": "code",
   "execution_count": 6,
   "metadata": {},
   "outputs": [],
   "source": [
    "# Traitement du dataset\n",
    "df[['NumberOfDependents']] = df[['NumberOfDependents']].fillna(0)\n",
    "df[['MonthlyIncome']] = df[['MonthlyIncome']].fillna(0)\n",
    "\n",
    "df.loc[df['NumberOfTime30-59DaysPastDueNotWorse'] >= 20,'NumberOfTime30-59DaysPastDueNotWorse'] = df['NumberOfTime30-59DaysPastDueNotWorse'].median()\n",
    "df.loc[df['NumberOfTime60-89DaysPastDueNotWorse'] >= 20,'NumberOfTime60-89DaysPastDueNotWorse'] = df['NumberOfTime60-89DaysPastDueNotWorse'].median()\n",
    "df.loc[df['NumberOfTimes90DaysLate'] >= 20,'NumberOfTimes90DaysLate'] = df['NumberOfTimes90DaysLate'].median()\n",
    "\n",
    "df['NumberOfTimeGlobal'] = df['NumberOfTime30-59DaysPastDueNotWorse'] + df['NumberOfTime60-89DaysPastDueNotWorse']*2 + df['NumberOfTimes90DaysLate']*3\n",
    "df.drop(['NumberOfTime30-59DaysPastDueNotWorse', 'NumberOfTime60-89DaysPastDueNotWorse', 'NumberOfTimes90DaysLate'], axis=1, inplace=True)\n",
    "\n",
    "df.loc[df['age'] >= 70,'IsOld'] = 1\n",
    "df.loc[df['age'] < 70,'IsOld'] = 0"
   ]
  },
  {
   "cell_type": "code",
   "execution_count": 7,
   "metadata": {},
   "outputs": [],
   "source": [
    "# Téléchargement du datatset\n",
    "df.to_csv('storage/dataset_one_line_prediction.csv', index=False) "
   ]
  },
  {
   "cell_type": "code",
   "execution_count": 8,
   "metadata": {},
   "outputs": [
    {
     "data": {
      "text/plain": [
       "True"
      ]
     },
     "execution_count": 8,
     "metadata": {},
     "output_type": "execute_result"
    }
   ],
   "source": [
    "# Création de la source et du dataset sur BigML\n",
    "source_one_line = api.create_source('storage/dataset_one_line_prediction.csv')\n",
    "dataset_one_line = api.create_dataset(source_one_line, {\"name\": \"Dataset One Line\"})\n",
    "api.ok(dataset_one_line)"
   ]
  },
  {
   "cell_type": "code",
   "execution_count": 9,
   "metadata": {},
   "outputs": [
    {
     "name": "stdout",
     "output_type": "stream",
     "text": [
      "{'probability': 0.50998, 'prediction': '0'}\n"
     ]
    }
   ],
   "source": [
    "import csv\n",
    "from bigml.ensemble import Ensemble\n",
    "local_ensemble = Ensemble('ensemble/5dc2f3f07811dd7f2d012312')\n",
    "with open(\"storage/batch_one_prediction.csv\") as test_handler:\n",
    "    reader = csv.DictReader(test_handler)\n",
    "    for input_data in reader:\n",
    "    # predicting for all rows\n",
    "        results = local_ensemble.predict(input_data)\n",
    "        print(results)"
   ]
  }
 ],
 "metadata": {
  "kernelspec": {
   "display_name": "Python 3",
   "language": "python",
   "name": "python3"
  },
  "language_info": {
   "codemirror_mode": {
    "name": "ipython",
    "version": 3
   },
   "file_extension": ".py",
   "mimetype": "text/x-python",
   "name": "python",
   "nbconvert_exporter": "python",
   "pygments_lexer": "ipython3",
   "version": "3.7.3"
  }
 },
 "nbformat": 4,
 "nbformat_minor": 2
}
