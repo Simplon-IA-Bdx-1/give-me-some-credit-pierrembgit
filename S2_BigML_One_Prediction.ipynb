{
 "cells": [
  {
   "cell_type": "code",
   "execution_count": 1,
   "metadata": {},
   "outputs": [],
   "source": [
    "# On importe la librairie bigml\n",
    "from bigml.api import BigML"
   ]
  },
  {
   "cell_type": "code",
   "execution_count": 2,
   "metadata": {},
   "outputs": [],
   "source": [
    "# On se connecte à bigml\n",
    "api = BigML(project='project/5d94a32e42129f2e16000232')"
   ]
  },
  {
   "cell_type": "code",
   "execution_count": 3,
   "metadata": {},
   "outputs": [],
   "source": [
    "# On récupère un ensemble\n",
    "ensemble = api.get_ensemble('ensemble/5dc2f3f07811dd7f2d012312')"
   ]
  },
  {
   "cell_type": "code",
   "execution_count": 12,
   "metadata": {
    "scrolled": true
   },
   "outputs": [],
   "source": [
    "# On crée une prédiction\n",
    "prediction = api.create_prediction(ensemble, {\n",
    "        \"RevolvingUtilizationOfUnsecuredLines\": 0.01703559,\n",
    "        \"NumberOfDependents\": 1,\n",
    "        \"DebtRatio\": 0,\n",
    "        \"age\": 42,\n",
    "        \"NumberOfOpenCreditLinesAndLoans\": 6,\n",
    "        \"NumberRealEstateLoansOrLines\": 1,\n",
    "        \"NumberOfTime30-59DaysPastDueNotWorse\": 1,\n",
    "        \"NumberOfTime60-89DaysPastDueNotWorse\": 0,\n",
    "        \"NumberOfTimes90DaysLate\": 0\n",
    "    },\n",
    "    {\n",
    "        \"name\" : \"Exercice Louis\"\n",
    "    }\n",
    ")"
   ]
  },
  {
   "cell_type": "code",
   "execution_count": 13,
   "metadata": {},
   "outputs": [
    {
     "name": "stdout",
     "output_type": "stream",
     "text": [
      "SeriousDlqin2yrs for {'DebtRatio': 0, 'NumberOfDependents': 1, 'NumberOfOpenCreditLinesAndLoans': 6, 'NumberOfTime30-59DaysPastDueNotWorse': 1, 'NumberOfTime60-89DaysPastDueNotWorse': 0, 'NumberOfTimes90DaysLate': 0, 'NumberRealEstateLoansOrLines': 1, 'RevolvingUtilizationOfUnsecuredLines': 0.01703559, 'age': 42} is 0\n"
     ]
    }
   ],
   "source": [
    "# On affiche la prédiction\n",
    "api.pprint(prediction)"
   ]
  },
  {
   "cell_type": "code",
   "execution_count": null,
   "metadata": {},
   "outputs": [],
   "source": []
  }
 ],
 "metadata": {
  "kernelspec": {
   "display_name": "Python 3",
   "language": "python",
   "name": "python3"
  },
  "language_info": {
   "codemirror_mode": {
    "name": "ipython",
    "version": 3
   },
   "file_extension": ".py",
   "mimetype": "text/x-python",
   "name": "python",
   "nbconvert_exporter": "python",
   "pygments_lexer": "ipython3",
   "version": "3.7.3"
  }
 },
 "nbformat": 4,
 "nbformat_minor": 2
}
