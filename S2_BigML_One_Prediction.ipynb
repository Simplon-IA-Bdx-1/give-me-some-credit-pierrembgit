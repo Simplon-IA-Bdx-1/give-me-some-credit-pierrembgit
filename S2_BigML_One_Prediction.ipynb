{
 "cells": [
  {
   "cell_type": "code",
   "execution_count": 1,
   "metadata": {},
   "outputs": [],
   "source": [
    "# Data to predict\n",
    "predicton_data = {\n",
    "    \"RevolvingUtilizationOfUnsecuredLines\": 0.01703559,\n",
    "    \"NumberOfDependents\": 1,\n",
    "    \"DebtRatio\": 0,\n",
    "    \"age\": 42,\n",
    "    \"NumberOfOpenCreditLinesAndLoans\": 6,\n",
    "    \"NumberRealEstateLoansOrLines\": 1,\n",
    "    \"NumberOfTime30-59DaysPastDueNotWorse\": 1,\n",
    "    \"NumberOfTime60-89DaysPastDueNotWorse\": 0,\n",
    "    \"NumberOfTimes90DaysLate\": 0,\n",
    "    \"MonthlyIncome\" : 100000\n",
    "}"
   ]
  },
  {
   "cell_type": "code",
   "execution_count": 2,
   "metadata": {},
   "outputs": [],
   "source": [
    "# On importe la librairie bigml et pandas\n",
    "from bigml.api import BigML\n",
    "import pandas as pd\n",
    "# Importe les fonctions depuis my_functions.ipynb\n",
    "import ipynb.fs.full.my_functions as myfn"
   ]
  },
  {
   "cell_type": "code",
   "execution_count": 3,
   "metadata": {},
   "outputs": [],
   "source": [
    "# On se connecte à bigml et on récupère un ensemble\n",
    "api = BigML(project='project/5d94a32e42129f2e16000232')\n",
    "ensemble = api.get_ensemble('ensemble/5dc2f3f07811dd7f2d012312')"
   ]
  },
  {
   "cell_type": "code",
   "execution_count": 4,
   "metadata": {},
   "outputs": [],
   "source": [
    "# On récupère le dataset utilisé pour entrainer le modèle\n",
    "dataset = api.get_dataset(ensemble['object']['dataset'])"
   ]
  },
  {
   "cell_type": "code",
   "execution_count": 5,
   "metadata": {},
   "outputs": [],
   "source": [
    "# On récupère l'ensemble des colonnes du dataset\n",
    "dataset_columns = []\n",
    "for row in dataset['object']['fields']:\n",
    "    dataset_columns.append(dataset['object']['fields'][row]['name'])"
   ]
  },
  {
   "cell_type": "code",
   "execution_count": 6,
   "metadata": {},
   "outputs": [],
   "source": [
    "# On crée un dataframe pandas et on injecte les colonnes\n",
    "df = pd.DataFrame(columns=dataset_columns)\n",
    "# puis les données\n",
    "df = df.append(predicton_data,ignore_index=True)"
   ]
  },
  {
   "cell_type": "code",
   "execution_count": 7,
   "metadata": {},
   "outputs": [],
   "source": [
    "# Applique les prétraitements sur le dataframe\n",
    "df = myfn.pretraitements(df)"
   ]
  },
  {
   "cell_type": "code",
   "execution_count": 8,
   "metadata": {},
   "outputs": [],
   "source": [
    "# Transforme le dataframe en dictionnaire\n",
    "data = df.iloc[0].to_dict()"
   ]
  },
  {
   "cell_type": "code",
   "execution_count": 9,
   "metadata": {},
   "outputs": [
    {
     "name": "stdout",
     "output_type": "stream",
     "text": [
      "{   'DebtRatio': 0.0,\n",
      "    'Id': 'NA',\n",
      "    'IsOld': 0.0,\n",
      "    'MonthlyIncome': 100000.0,\n",
      "    'NumberOfDependents': 1.0,\n",
      "    'NumberOfOpenCreditLinesAndLoans': 6.0,\n",
      "    'NumberOfTimeGlobal': 1.0,\n",
      "    'NumberRealEstateLoansOrLines': 1.0,\n",
      "    'RevolvingUtilizationOfUnsecuredLines': 0.01703559,\n",
      "    'SeriousDlqin2yrs': 'NA',\n",
      "    'age': 42.0}\n"
     ]
    }
   ],
   "source": [
    "myfn.bprint(data)"
   ]
  },
  {
   "cell_type": "code",
   "execution_count": 10,
   "metadata": {},
   "outputs": [
    {
     "data": {
      "text/plain": [
       "True"
      ]
     },
     "execution_count": 10,
     "metadata": {},
     "output_type": "execute_result"
    }
   ],
   "source": [
    "# Requête BigMl pour obtenir la prediction\n",
    "prediction = api.create_prediction(ensemble, data, {\"explain\" : True, \"name\": \"TEST 100000$ monthly income\"})\n",
    "api.ok(prediction)"
   ]
  },
  {
   "cell_type": "code",
   "execution_count": 11,
   "metadata": {},
   "outputs": [
    {
     "name": "stdout",
     "output_type": "stream",
     "text": [
      "Prediction is 0 with a probability of 97.129%\n"
     ]
    }
   ],
   "source": [
    "if prediction['object']['probabilities'][0][1] > 0.5:\n",
    "    print(f\"Prediction is {prediction['object']['probabilities'][0][0]} with a probability of {prediction['object']['probabilities'][0][1]*100}%\")\n",
    "else:\n",
    "    print(f\"Prediction is {prediction['object']['probabilities'][1][0]} with a probability of {prediction['object']['probabilities'][1][1]*100}%\")"
   ]
  },
  {
   "cell_type": "code",
   "execution_count": 12,
   "metadata": {},
   "outputs": [
    {
     "name": "stdout",
     "output_type": "stream",
     "text": [
      "[   {'field': '00000d', 'importance': 0.90565, 'operator': '<', 'value': 2},\n",
      "    {'field': '00000d', 'importance': 0.06236, 'operator': '>', 'value': 0},\n",
      "    {'field': '000009', 'importance': 0.02035, 'operator': '<', 'value': 2},\n",
      "    {'field': '000002', 'importance': 0.0071, 'operator': '<', 'value': 45}]\n"
     ]
    }
   ],
   "source": [
    "api.pprint(prediction['object']['explanation'])"
   ]
  },
  {
   "cell_type": "code",
   "execution_count": 16,
   "metadata": {},
   "outputs": [
    {
     "ename": "TypeError",
     "evalue": "string indices must be integers",
     "output_type": "error",
     "traceback": [
      "\u001b[0;31m---------------------------------------------------------------------------\u001b[0m",
      "\u001b[0;31mTypeError\u001b[0m                                 Traceback (most recent call last)",
      "\u001b[0;32m<ipython-input-16-1b457d9d31e9>\u001b[0m in \u001b[0;36m<module>\u001b[0;34m\u001b[0m\n\u001b[1;32m      1\u001b[0m \u001b[0mliste\u001b[0m \u001b[0;34m=\u001b[0m \u001b[0;34m[\u001b[0m\u001b[0;34m]\u001b[0m\u001b[0;34m\u001b[0m\u001b[0;34m\u001b[0m\u001b[0m\n\u001b[1;32m      2\u001b[0m \u001b[0;32mfor\u001b[0m \u001b[0mrow\u001b[0m \u001b[0;32min\u001b[0m \u001b[0mprediction\u001b[0m\u001b[0;34m[\u001b[0m\u001b[0;34m'object'\u001b[0m\u001b[0;34m]\u001b[0m\u001b[0;34m[\u001b[0m\u001b[0;34m'explanation'\u001b[0m\u001b[0;34m]\u001b[0m\u001b[0;34m:\u001b[0m\u001b[0;34m\u001b[0m\u001b[0;34m\u001b[0m\u001b[0m\n\u001b[0;32m----> 3\u001b[0;31m     \u001b[0mrow\u001b[0m\u001b[0;34m[\u001b[0m\u001b[0;34m'field'\u001b[0m\u001b[0;34m]\u001b[0m \u001b[0;34m=\u001b[0m \u001b[0mprediction\u001b[0m\u001b[0;34m[\u001b[0m\u001b[0;34m'object'\u001b[0m\u001b[0;34m]\u001b[0m\u001b[0;34m[\u001b[0m\u001b[0;34m'ensemble'\u001b[0m\u001b[0;34m]\u001b[0m\u001b[0;34m[\u001b[0m\u001b[0;34m'fields'\u001b[0m\u001b[0;34m]\u001b[0m\u001b[0;34m[\u001b[0m\u001b[0mrow\u001b[0m\u001b[0;34m[\u001b[0m\u001b[0;34m'field'\u001b[0m\u001b[0;34m]\u001b[0m\u001b[0;34m]\u001b[0m\u001b[0;34m[\u001b[0m\u001b[0;34m'name'\u001b[0m\u001b[0;34m]\u001b[0m\u001b[0;34m\u001b[0m\u001b[0;34m\u001b[0m\u001b[0m\n\u001b[0m\u001b[1;32m      4\u001b[0m     \u001b[0mliste\u001b[0m\u001b[0;34m.\u001b[0m\u001b[0mappend\u001b[0m\u001b[0;34m(\u001b[0m\u001b[0mrow\u001b[0m\u001b[0;34m)\u001b[0m\u001b[0;34m\u001b[0m\u001b[0;34m\u001b[0m\u001b[0m\n\u001b[1;32m      5\u001b[0m \u001b[0;34m\u001b[0m\u001b[0m\n",
      "\u001b[0;31mTypeError\u001b[0m: string indices must be integers"
     ]
    }
   ],
   "source": [
    "liste = []\n",
    "for row in prediction['object']['explanation']:\n",
    "    row['field'] = ensemble['object']['ensemble']['fields'][row['field']]['name']\n",
    "    liste.append(row)\n",
    "    \n",
    "print(liste)"
   ]
  },
  {
   "cell_type": "code",
   "execution_count": null,
   "metadata": {},
   "outputs": [],
   "source": [
    "for row in prediction['object']['fields']:\n",
    "    print(prediction['object']['fields'][row]['name'])"
   ]
  },
  {
   "cell_type": "code",
   "execution_count": null,
   "metadata": {},
   "outputs": [],
   "source": []
  }
 ],
 "metadata": {
  "kernelspec": {
   "display_name": "Python 3",
   "language": "python",
   "name": "python3"
  },
  "language_info": {
   "codemirror_mode": {
    "name": "ipython",
    "version": 3
   },
   "file_extension": ".py",
   "mimetype": "text/x-python",
   "name": "python",
   "nbconvert_exporter": "python",
   "pygments_lexer": "ipython3",
   "version": "3.7.3"
  }
 },
 "nbformat": 4,
 "nbformat_minor": 2
}
