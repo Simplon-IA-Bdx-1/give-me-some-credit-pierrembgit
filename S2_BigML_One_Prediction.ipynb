{
 "cells": [
  {
   "cell_type": "code",
   "execution_count": 29,
   "metadata": {},
   "outputs": [],
   "source": [
    "# On importe la librairie bigml\n",
    "from bigml.api import BigML"
   ]
  },
  {
   "cell_type": "code",
   "execution_count": 30,
   "metadata": {},
   "outputs": [],
   "source": [
    "# On se connecte à bigml\n",
    "api = BigML(project='project/5d94a32e42129f2e16000232')"
   ]
  },
  {
   "cell_type": "code",
   "execution_count": 31,
   "metadata": {},
   "outputs": [],
   "source": [
    "# On récupère un ensemble\n",
    "ensemble = api.get_ensemble('ensemble/5dc2f3f07811dd7f2d012312')"
   ]
  },
  {
   "cell_type": "code",
   "execution_count": 38,
   "metadata": {
    "scrolled": true
   },
   "outputs": [],
   "source": [
    "# On crée une prédiction\n",
    "prediction_args = {\n",
    "    \"name\" : \"Exercice Louis\",\n",
    "    \"operating_kind\" : 'probability',\n",
    "}\n",
    "\n",
    "\n",
    "prediction = api.create_prediction(ensemble, {\n",
    "        \"RevolvingUtilizationOfUnsecuredLines\": 0.01703559,\n",
    "        \"NumberOfDependents\": 1,\n",
    "        \"DebtRatio\": 0,\n",
    "        \"age\": 42,\n",
    "        \"NumberOfOpenCreditLinesAndLoans\": 6,\n",
    "        \"NumberRealEstateLoansOrLines\": 15,\n",
    "        \"NumberOfTime30-59DaysPastDueNotWorse\": 15,\n",
    "        \"NumberOfTime60-89DaysPastDueNotWorse\": 15,\n",
    "        \"NumberOfTimes90DaysLate\": 0\n",
    "    },\n",
    "    prediction_args   \n",
    ")"
   ]
  },
  {
   "cell_type": "code",
   "execution_count": 59,
   "metadata": {},
   "outputs": [
    {
     "name": "stdout",
     "output_type": "stream",
     "text": [
      "Prediction : 0\n",
      "Probability : 93.361%\n"
     ]
    }
   ],
   "source": [
    "print(f\"Prediction : {prediction['object']['probabilities'][0][0]}\")\n",
    "print(f\"Probability : {prediction['object']['probabilities'][0][1]*100}%\")"
   ]
  },
  {
   "cell_type": "code",
   "execution_count": 61,
   "metadata": {},
   "outputs": [
    {
     "data": {
      "text/plain": [
       "'my_prediction.json'"
      ]
     },
     "execution_count": 61,
     "metadata": {},
     "output_type": "execute_result"
    }
   ],
   "source": [
    "# On exporte les données dans un json\n",
    "api.export(prediction['resource'], filename=\"my_prediction.json\")"
   ]
  }
 ],
 "metadata": {
  "kernelspec": {
   "display_name": "Python 3",
   "language": "python",
   "name": "python3"
  },
  "language_info": {
   "codemirror_mode": {
    "name": "ipython",
    "version": 3
   },
   "file_extension": ".py",
   "mimetype": "text/x-python",
   "name": "python",
   "nbconvert_exporter": "python",
   "pygments_lexer": "ipython3",
   "version": "3.7.3"
  }
 },
 "nbformat": 4,
 "nbformat_minor": 2
}
