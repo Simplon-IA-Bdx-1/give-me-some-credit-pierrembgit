{
 "cells": [
  {
   "cell_type": "code",
   "execution_count": null,
   "metadata": {},
   "outputs": [],
   "source": [
    "# Data to predict\n",
    "predicton_data = {\n",
    "    \"RevolvingUtilizationOfUnsecuredLines\": 0.01703559,\n",
    "    \"NumberOfDependents\": 1,\n",
    "    \"DebtRatio\": 0,\n",
    "    \"age\": 42,\n",
    "    \"NumberOfOpenCreditLinesAndLoans\": 6,\n",
    "    \"NumberRealEstateLoansOrLines\": 1,\n",
    "    \"NumberOfTime30-59DaysPastDueNotWorse\": 1,\n",
    "    \"NumberOfTime60-89DaysPastDueNotWorse\": 0,\n",
    "    \"NumberOfTimes90DaysLate\": 0,\n",
    "}"
   ]
  },
  {
   "cell_type": "code",
   "execution_count": null,
   "metadata": {},
   "outputs": [],
   "source": [
    "# On importe la librairie bigml et pandas\n",
    "from bigml.api import BigML\n",
    "import pandas as pd\n",
    "# Importe les fonctions depuis my_functions.ipynb\n",
    "import ipynb.fs.full.my_functions as myfn"
   ]
  },
  {
   "cell_type": "code",
   "execution_count": null,
   "metadata": {},
   "outputs": [],
   "source": [
    "# On se connecte à bigml et on récupère un ensemble\n",
    "api = BigML(project='project/5d94a32e42129f2e16000232')\n",
    "ensemble = api.get_ensemble('ensemble/5dc2f3f07811dd7f2d012312')"
   ]
  },
  {
   "cell_type": "code",
   "execution_count": null,
   "metadata": {},
   "outputs": [],
   "source": [
    "# On récupère le dataset utilisé pour entrainer le modèle\n",
    "dataset = api.get_dataset(ensemble['object']['dataset'])"
   ]
  },
  {
   "cell_type": "code",
   "execution_count": null,
   "metadata": {},
   "outputs": [],
   "source": [
    "# On récupère l'ensemble des colonnes du dataset\n",
    "dataset_columns = []\n",
    "for row in dataset['object']['fields']:\n",
    "    dataset_columns.append(dataset['object']['fields'][row]['name'])"
   ]
  },
  {
   "cell_type": "code",
   "execution_count": null,
   "metadata": {},
   "outputs": [],
   "source": [
    "# On crée un dataframe pandas et on injecte les colonnes\n",
    "df = pd.DataFrame(columns=dataset_columns)\n",
    "# puis les données\n",
    "df = df.append(predicton_data,ignore_index=True)"
   ]
  },
  {
   "cell_type": "code",
   "execution_count": null,
   "metadata": {},
   "outputs": [],
   "source": [
    "# Applique les prétraitements sur le dataframe\n",
    "df = myfn.pretraitements(df)"
   ]
  },
  {
   "cell_type": "code",
   "execution_count": null,
   "metadata": {},
   "outputs": [],
   "source": [
    "# Transforme le dataframe en dictionnaire\n",
    "data = df.iloc[0].to_dict()"
   ]
  },
  {
   "cell_type": "code",
   "execution_count": null,
   "metadata": {},
   "outputs": [],
   "source": [
    "# Requête BigMl pour obtenir la prediction\n",
    "prediction = api.create_prediction(ensemble, data)"
   ]
  },
  {
   "cell_type": "code",
   "execution_count": null,
   "metadata": {},
   "outputs": [],
   "source": [
    "if prediction['object']['probabilities'][0][1] > 0.5:\n",
    "    print(f\"Prediction is {prediction['object']['probabilities'][0][0]} with a probability of {prediction['object']['probabilities'][0][1]*100}%\")\n",
    "else:\n",
    "    print(f\"Prediction is {prediction['object']['probabilities'][1][0]} with a probability of {prediction['object']['probabilities'][1][1]*100}%\")"
   ]
  }
 ],
 "metadata": {
  "kernelspec": {
   "display_name": "Python 3",
   "language": "python",
   "name": "python3"
  },
  "language_info": {
   "codemirror_mode": {
    "name": "ipython",
    "version": 3
   },
   "file_extension": ".py",
   "mimetype": "text/x-python",
   "name": "python",
   "nbconvert_exporter": "python",
   "pygments_lexer": "ipython3",
   "version": "3.7.3"
  }
 },
 "nbformat": 4,
 "nbformat_minor": 2
}
